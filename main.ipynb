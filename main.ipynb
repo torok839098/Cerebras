{
 "cells": [
  {
   "cell_type": "code",
   "execution_count": null,
   "id": "ce1b3069",
   "metadata": {},
   "outputs": [],
   "source": [
    "import os\n",
    "import streamlit as st\n",
    "import weaviate\n",
    "from langchain_weaviate import WeaviateVectorStore\n",
    "from langchain_cerebras import ChatCerebras\n",
    "from langchain.document_loaders import PyPDFLoader\n",
    "from langchain.text_splitter import RecursiveCharacterTextSplitter\n",
    "from langchain.chains.question_answering import load_qa_chain\n",
    "from langchain_community.embeddings.sentence_transformer import SentenceTransformerEmbeddings\n",
    "\n"
   ]
  },
  {
   "cell_type": "code",
   "execution_count": null,
   "id": "9848d671",
   "metadata": {},
   "outputs": [],
   "source": [
    "# Function to upload vectors to Weaviate\n",
    "def upload_vectors(texts, embeddings, progress_bar, cilent):\n",
    "    vector_store = WeaviateVectorStore(client=client, index_name=\"my_class\", text_key=\"text\", embedding=embeddings)\n",
    "    for i in range(len(texts)):\n",
    "        t = texts[i]\n",
    "        vector_store.add_texts([t.page_content])\n",
    "        progress_bar.progress((i + 1) / len(texts), \"Indexing PDF content... (this may take a bit) 🦙\")\n",
    "\n",
    "    progress_bar.empty()\n",
    "\n",
    "    return vector_store\n",
    "\n",
    "st.set_page_config(page_icon=\"🤖\", layout=\"wide\", page_title=\"Cerebras\")\n",
    "st.subheader(\"PDF Q&A with Weaviate 📄\", divider=\"orange\", anchor=False)\n"
   ]
  },
  {
   "cell_type": "code",
   "execution_count": null,
   "id": "8eb71af8",
   "metadata": {},
   "outputs": [],
   "source": [
    "# Load secrets\n",
    "with st.sidebar:\n",
    "    st.title(\"Settings\")\n",
    "    st.markdown(\"### :red[Enter your Cerebras API Key below]\")\n",
    "    CEREBRAS_API_KEY = st.text_input(\"Cerebras API Key:\", type=\"password\")\n",
    "    st.markdown(\"### :red[Enter your Weaviate URL below]\")\n",
    "    WEAVIATE_URL = st.text_input(\"Weaviate URL:\", type=\"password\")\n",
    "    st.markdown(\"### :red[Enter your Weaviate API Key below]\")\n",
    "    WEAVIATE_API_KEY = st.text_input(\"Weaviate API Key:\", type=\"password\")\n",
    "    st.markdown(\"[Get your Cerebras API Key Here](https://inference.cerebras.ai/)\")\n",
    "\n",
    "if not CEREBRAS_API_KEY or not WEAVIATE_URL or not WEAVIATE_API_KEY:\n",
    "    st.markdown(\"\"\"\n",
    "    ## Welcome to Cerebras x Weaviate Demo!\n",
    "\n",
    "    This PDF analysis tool receives a file and allows you to ask questions about the content of the PDF through vector storage with Weaviate and a custom LLM implementation with Cerebras.\n",
    "\n",
    "    To get started:\n",
    "    1. :red[Enter your Cerebras and Weaviate API credentials in the sidebar.]\n",
    "    2. Upload a PDF file to analyze.\n",
    "    3. Was the PDF TLDR? Ask a question!\n",
    "\n",
    "    \"\"\")\n",
    "\n",
    "    st.stop()"
   ]
  },
  {
   "cell_type": "code",
   "execution_count": null,
   "id": "9a265e98",
   "metadata": {},
   "outputs": [],
   "source": [
    "# Initialize chat history and selected model\n",
    "if \"messages\" not in st.session_state:\n",
    "    st.session_state.messages = []\n",
    "\n",
    "if \"uploaded_pdf\" not in st.session_state:\n",
    "    st.session_state.uploaded_pdf = None\n",
    "\n",
    "if \"docsearch\" not in st.session_state:\n",
    "    st.session_state.docsearch = None"
   ]
  },
  {
   "cell_type": "code",
   "execution_count": null,
   "id": "c0335461",
   "metadata": {},
   "outputs": [],
   "source": [
    "# Load the PDF data\n",
    "uploaded_file = st.file_uploader(\"Choose a PDF file\", type=\"pdf\")\n",
    "\n",
    "st.divider()"
   ]
  },
  {
   "cell_type": "code",
   "execution_count": null,
   "id": "16c73e88",
   "metadata": {},
   "outputs": [],
   "source": [
    "# Display chat messages stored in history on app rerun\n",
    "for message in st.session_state.messages:\n",
    "    avatar = '🤖' if message[\"role\"] == \"assistant\" else '❔'\n",
    "    with st.chat_message(message[\"role\"], avatar=avatar):\n",
    "        st.markdown(message[\"content\"])\n",
    "\n",
    "if uploaded_file is None:\n",
    "    st.markdown(\"Please upload a PDF file.\")\n",
    "else:\n",
    "    temp_filepath = os.path.join(\"/tmp\", uploaded_file.name)\n",
    "    with open(temp_filepath, \"wb\") as f:\n",
    "        f.write(uploaded_file.getvalue())\n",
    "\n",
    "    loader = PyPDFLoader(temp_filepath)\n",
    "    data = loader.load()"
   ]
  },
  {
   "cell_type": "code",
   "execution_count": null,
   "id": "6c75e741",
   "metadata": {},
   "outputs": [],
   "source": [
    "# Split the data into smaller documents\n",
    "    text_splitter = RecursiveCharacterTextSplitter(chunk_size=1000,\n",
    "                                                   chunk_overlap=0)\n",
    "    texts = text_splitter.split_documents(data)"
   ]
  },
  {
   "cell_type": "code",
   "execution_count": null,
   "id": "6b86fc9d",
   "metadata": {},
   "outputs": [],
   "source": [
    "# Create embeddings\n",
    "    with st.spinner(text=\"Loading embeddings...\"):\n",
    "    embeddings = SentenceTransformerEmbeddings(model_name=\"all-MiniLM-L6-v2\")"
   ]
  },
  {
   "cell_type": "code",
   "execution_count": null,
   "id": "318d0860",
   "metadata": {},
   "outputs": [],
   "source": [
    "# Create a Weaviate client\n",
    "    client = weaviate.connect_to_weaviate_cloud(\n",
    "        cluster_url=WEAVIATE_URL,  # Replace with your Weaviate Cloud URL\n",
    "        auth_credentials=weaviate.AuthApiKey(WEAVIATE_API_KEY),\n",
    "    )"
   ]
  },
  {
   "cell_type": "code",
   "execution_count": null,
   "id": "6c130ba1",
   "metadata": {},
   "outputs": [],
   "source": [
    "# If the uploaded file is different from the previous one, update the index\n",
    "    if uploaded_file.name != st.session_state.uploaded_pdf:\n",
    "        st.session_state.uploaded_pdf = uploaded_file.name\n",
    "        progress_bar = st.progress(0, text=\"Indexing PDF content... (this may take a bit)\")\n",
    "        st.session_state.docsearch = upload_vectors(texts, embeddings, progress_bar, client)\n",
    "        st.session_state.messages = []"
   ]
  },
  {
   "cell_type": "code",
   "execution_count": null,
   "id": "7993426a",
   "metadata": {},
   "outputs": [],
   "source": [
    "# Get user input\n",
    "    if prompt := st.chat_input(\"Enter your prompt here...\"):\n",
    "        st.session_state.messages.append({\"role\": \"user\", \"content\": prompt})\n",
    "        with st.chat_message(\"user\", avatar='❔'):\n",
    "            st.markdown(prompt)"
   ]
  },
  {
   "cell_type": "code",
   "execution_count": null,
   "id": "349f6962",
   "metadata": {},
   "outputs": [],
   "source": [
    "# Perform similarity search\n",
    "    docs = st.session_state.docsearch.similarity_search(prompt)\n"
   ]
  },
  {
   "cell_type": "code",
   "execution_count": null,
   "id": "e2ad1b9b",
   "metadata": {},
   "outputs": [],
   "source": [
    "# Load the question answering chain\n",
    "        llm = ChatCerebras(api_key=CEREBRAS_API_KEY, model=\"llama3.1-8b\")\n",
    "        chain = load_qa_chain(llm, chain_type=\"stuff\")"
   ]
  },
  {
   "cell_type": "code",
   "execution_count": null,
   "id": "5530fdb4",
   "metadata": {},
   "outputs": [],
   "source": [
    "# Query the documents and get the answer\n",
    "        response = chain.run(input_documents=docs, question=prompt)\n",
    "\n",
    "        with st.chat_message(\"assistant\", avatar=\"🤖\"):\n",
    "            # Save response to chat history\n",
    "            st.session_state.messages.append({\n",
    "                \"role\": \"assistant\",\n",
    "                \"content\": response\n",
    "            })\n",
    "            st.markdown(response)"
   ]
  }
 ],
 "metadata": {
  "kernelspec": {
   "display_name": "Python 3 (ipykernel)",
   "language": "python",
   "name": "python3"
  },
  "language_info": {
   "codemirror_mode": {
    "name": "ipython",
    "version": 3
   },
   "file_extension": ".py",
   "mimetype": "text/x-python",
   "name": "python",
   "nbconvert_exporter": "python",
   "pygments_lexer": "ipython3",
   "version": "3.11.5"
  }
 },
 "nbformat": 4,
 "nbformat_minor": 5
}
